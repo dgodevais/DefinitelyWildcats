{
 "cells": [
  {
   "cell_type": "code",
   "execution_count": 2,
   "metadata": {
    "collapsed": true
   },
   "outputs": [],
   "source": [
    "import os\n",
    "import sys\n",
    "import matplotlib.pyplot as plt\n",
    "import numpy as np\n",
    "# import pandas as pd\n",
    "from scipy import sparse as sp"
   ]
  },
  {
   "cell_type": "code",
   "execution_count": 3,
   "metadata": {
    "collapsed": true
   },
   "outputs": [],
   "source": [
    "DATAFOLDER = \"data/\""
   ]
  },
  {
   "cell_type": "code",
   "execution_count": 4,
   "metadata": {
    "collapsed": true
   },
   "outputs": [],
   "source": [
    "import findspark\n",
    "findspark.init()\n",
    "from pyspark.sql import SparkSession"
   ]
  },
  {
   "cell_type": "code",
   "execution_count": 5,
   "metadata": {
    "collapsed": true
   },
   "outputs": [],
   "source": [
    "# Pyspark related imports\n",
    "import time\n",
    "from pyspark.ml.feature import VectorAssembler\n",
    "from pyspark.ml.linalg import Vectors\n",
    "from pyspark.ml.classification import LogisticRegression, MultilayerPerceptronClassifier\n",
    "from pyspark.ml.evaluation import BinaryClassificationEvaluator, MulticlassClassificationEvaluator\n",
    "from pyspark.ml.regression import LinearRegression\n",
    "from pyspark.sql import SparkSession, SQLContext\n",
    "from pyspark.mllib.linalg import Matrices"
   ]
  },
  {
   "cell_type": "code",
   "execution_count": 6,
   "metadata": {
    "collapsed": true
   },
   "outputs": [],
   "source": [
    "NUM_FEATURES = 90000\n",
    "GENDER_INDEX = NUM_FEATURES + 2\n",
    "AGE_INDEX = NUM_FEATURES + 1\n",
    "NUM_F_SETS = 9\n",
    "COLS_PER_SET = 10000\n",
    "PIC_DIM = 100\n",
    "FIRST_COL_OFFSET = 1\n",
    "NOSE_BRIDGE_INDEX = 3\n",
    "\n",
    "spark = SparkSession.builder.appName(\"Python Spark SQL basic example2\").getOrCreate()\n",
    "# spark.conf.set(\"spark.executor.memory\", '50g')\n",
    "# spark.conf.set('spark.executor.cores', '2')\n",
    "# spark.conf.set('spark.cores.max', '2')\n",
    "# spark.conf.set(\"spark.driver.memory\",'50g')\n",
    "sc = spark.sparkContext\n",
    "sqlCtx = SQLContext(spark)\n",
    "spark.sparkContext.setLogLevel(\"ERROR\")"
   ]
  },
  {
   "cell_type": "code",
   "execution_count": 7,
   "metadata": {},
   "outputs": [
    {
     "name": "stdout",
     "output_type": "stream",
     "text": [
      "(251153, 90003)\n"
     ]
    }
   ],
   "source": [
    "# Load the sparse matrices containing the image feature data\n",
    "sp_face_features = None\n",
    "first = True\n",
    "for filename in os.listdir(DATAFOLDER):\n",
    "    fn_path = os.path.join(DATAFOLDER, filename)\n",
    "    b = np.load(fn_path)\n",
    "    data = b['data']\n",
    "    m_format = b['format']\n",
    "    shape = b['shape']\n",
    "    row = b['row']\n",
    "    col = b['col']\n",
    "    tmp = sp.csr_matrix((data, (row, col)), shape=shape)\n",
    "    if first:\n",
    "        sp_face_features = sp.vstack((tmp, sp_face_features), format=\"csr\")\n",
    "    else:\n",
    "        sp_face_features = tmp\n",
    "        first = False\n",
    "print(sp_face_features.shape)"
   ]
  },
  {
   "cell_type": "code",
   "execution_count": 8,
   "metadata": {
    "collapsed": true
   },
   "outputs": [],
   "source": [
    "def get_x_y_coord(z):\n",
    "    z = z - FIRST_COL_OFFSET\n",
    "    x = (z - ((z // COLS_PER_SET) * COLS_PER_SET)) % PIC_DIM\n",
    "    y = (z - ((z // COLS_PER_SET) * COLS_PER_SET)) // PIC_DIM\n",
    "    feature_set = z // COLS_PER_SET\n",
    "    return (x, y, feature_set)"
   ]
  },
  {
   "cell_type": "code",
   "execution_count": 9,
   "metadata": {
    "collapsed": true
   },
   "outputs": [],
   "source": [
    "def get_distance_features(active_cols):\n",
    "    coords = list(map(lambda z: get_x_y_coord(z), active_cols))\n",
    "    np_coords = np.array(coords)\n",
    "    distances = []\n",
    "    nose_feature_set = np_coords[np_coords[:, 2] == NOSE_BRIDGE_INDEX]\n",
    "    for i in range(0, NUM_F_SETS):\n",
    "        feature_set = np_coords[np_coords[:, 2] == i]\n",
    "        if i != 2:\n",
    "            if len(nose_feature_set) == 0 or len(feature_set) == 0:\n",
    "                distances.append((NUM_FEATURES + i, 0))\n",
    "            else:\n",
    "                nose_centroid = np.mean(nose_feature_set, axis=0)[0:2]\n",
    "                feature_centroid = np.mean(feature_set, axis=0)[0:2]\n",
    "                dist = np.linalg.norm(nose_centroid - feature_centroid)\n",
    "                distances.append((NUM_FEATURES + i, dist))\n",
    "    return distances"
   ]
  },
  {
   "cell_type": "code",
   "execution_count": 10,
   "metadata": {
    "collapsed": true
   },
   "outputs": [],
   "source": [
    "def get_spark_gender_dataframe_from_image_matrix(image_matrix, label_index):\n",
    "    \"\"\"\n",
    "    Process the sparse scipy matrix with image features and return a spark dataframe with sparse vectors\n",
    "    \"\"\"\n",
    "    spark_rows_formatted = []\n",
    "    skip_count = 0\n",
    "    for i, row in enumerate(image_matrix):\n",
    "        active_cols = row.nonzero()[1]\n",
    "        # Remove first column if index col and remove last two label columns\n",
    "        if active_cols[0] == 0:\n",
    "            active_cols = active_cols[1:-2]\n",
    "        else:\n",
    "            active_cols = active_cols[:-2]\n",
    "        indexes = list(map(lambda z: (z, 1), active_cols))\n",
    "        indexes += get_distance_features(active_cols)\n",
    "        try:\n",
    "            label = int(image_matrix[i, label_index])\n",
    "            spark_rows_formatted.append((label, indexes))\n",
    "        except ValueError:\n",
    "            skip_count += 1\n",
    "    print(\"Note that {} images were skipped due to nan label.\".format(str(skip_count)))\n",
    "    mapped_f = map(lambda x: (x[0], Vectors.sparse(NUM_FEATURES + NUM_F_SETS, x[1][1:])),\n",
    "                   spark_rows_formatted)\n",
    "    df_analysis = spark.createDataFrame(mapped_f, schema=[\"label\", \"features\"])\n",
    "    return df_analysis"
   ]
  },
  {
   "cell_type": "code",
   "execution_count": 11,
   "metadata": {},
   "outputs": [
    {
     "name": "stdout",
     "output_type": "stream",
     "text": [
      "Note that 5057 images were skipped due to nan label.\n",
      "+-----+--------------------+\n",
      "|label|            features|\n",
      "+-----+--------------------+\n",
      "|    1|(90009,[4994,6093...|\n",
      "|    1|(90009,[5121,6122...|\n",
      "|    1|(90009,[3899,4705...|\n",
      "|    1|(90009,[4582,5581...|\n",
      "|    1|(90009,[3789,4888...|\n",
      "+-----+--------------------+\n",
      "only showing top 5 rows\n",
      "\n"
     ]
    }
   ],
   "source": [
    "df_gender_analysis = get_spark_gender_dataframe_from_image_matrix(sp_face_features, GENDER_INDEX)\n",
    "df_gender_analysis.show(5)"
   ]
  },
  {
   "cell_type": "code",
   "execution_count": 12,
   "metadata": {},
   "outputs": [
    {
     "name": "stdout",
     "output_type": "stream",
     "text": [
      "The training data has 184561 instances.\n",
      "The test data has 61535 instances.\n"
     ]
    }
   ],
   "source": [
    "# Prepare the training and test data\n",
    "splits = df_gender_analysis.randomSplit([0.75, 0.25])\n",
    "data_train = splits[0]\n",
    "data_test = splits[1]\n",
    "print(\"The training data has {} instances.\".format(data_train.count()))\n",
    "print(\"The test data has {} instances.\".format(data_test.count()))"
   ]
  },
  {
   "cell_type": "code",
   "execution_count": 13,
   "metadata": {
    "collapsed": true
   },
   "outputs": [],
   "source": [
    "lr = LogisticRegression(maxIter=10, regParam=0.3)"
   ]
  },
  {
   "cell_type": "code",
   "execution_count": 14,
   "metadata": {},
   "outputs": [
    {
     "name": "stdout",
     "output_type": "stream",
     "text": [
      "+--------------------+--------------------+\n",
      "|                 FPR|                 TPR|\n",
      "+--------------------+--------------------+\n",
      "|                 0.0|                 0.0|\n",
      "|1.918943813325145...| 0.01830007613282829|\n",
      "|4.349605976870331E-4| 0.03044373220042672|\n",
      "|9.466789479070719E-4| 0.04852762869737671|\n",
      "|0.001253709958039...|0.055943530119462744|\n",
      "|0.002072459318391...| 0.07356687000084593|\n",
      "|0.002750486132432...| 0.08595490304813287|\n",
      "|0.003773922832872...| 0.10289210756346752|\n",
      "|0.004797359533312...| 0.11697198123936725|\n",
      "| 0.00619179203766247| 0.13347682648294532|\n",
      "|0.006498823047794494| 0.13677591570874023|\n",
      "|0.008072356974721114| 0.15356273439042042|\n",
      "|0.008763176747518166| 0.16088464466647243|\n",
      "|0.010579776890799305| 0.17707931912813812|\n",
      "|0.011846279807593901| 0.18816087524555186|\n",
      "|0.013445399652031521|  0.2050698824170763|\n",
      "|0.015082898372735647|  0.2186516030189956|\n",
      "|0.017385630948725823| 0.23510005357495323|\n",
      "|0.017731040835124348| 0.23712086321468517|\n",
      "|  0.0197267424009825|   0.253550515541436|\n",
      "+--------------------+--------------------+\n",
      "only showing top 20 rows\n",
      "\n",
      "areaUnderROC: 0.8451463608631494\n"
     ]
    }
   ],
   "source": [
    "# Fit the model\n",
    "lrModel = lr.fit(data_train)\n",
    "trainingSummary = lrModel.summary\n",
    "trainingSummary.roc.show()\n",
    "print(\"areaUnderROC: \" + str(trainingSummary.areaUnderROC))"
   ]
  },
  {
   "cell_type": "code",
   "execution_count": 17,
   "metadata": {},
   "outputs": [
    {
     "data": {
      "text/plain": [
       "0.7454750713446491"
      ]
     },
     "execution_count": 17,
     "metadata": {},
     "output_type": "execute_result"
    }
   ],
   "source": [
    "predictions = lrModel.transform(data_test)\n",
    "evaluator = BinaryClassificationEvaluator(rawPredictionCol=\"rawPrediction\")\n",
    "score = evaluator.evaluate(predictions)\n",
    "#evaluator.getMetricName()\n",
    "score"
   ]
  },
  {
   "cell_type": "code",
   "execution_count": 18,
   "metadata": {
    "collapsed": true
   },
   "outputs": [],
   "source": [
    "roc = trainingSummary.roc\n"
   ]
  },
  {
   "cell_type": "code",
   "execution_count": 19,
   "metadata": {
    "scrolled": true
   },
   "outputs": [
    {
     "data": {
      "text/plain": [
       "[Row(FPR=0.0),\n",
       " Row(FPR=0.00019189438133251457),\n",
       " Row(FPR=0.0004349605976870331),\n",
       " Row(FPR=0.0009466789479070719),\n",
       " Row(FPR=0.0012537099580390953),\n",
       " Row(FPR=0.0020724593183911576),\n",
       " Row(FPR=0.0027504861324327092),\n",
       " Row(FPR=0.0037739228328727867),\n",
       " Row(FPR=0.0047973595333128645),\n",
       " Row(FPR=0.00619179203766247),\n",
       " Row(FPR=0.006498823047794494),\n",
       " Row(FPR=0.008072356974721114),\n",
       " Row(FPR=0.008763176747518166),\n",
       " Row(FPR=0.010579776890799305),\n",
       " Row(FPR=0.011846279807593901),\n",
       " Row(FPR=0.013445399652031521),\n",
       " Row(FPR=0.015082898372735647),\n",
       " Row(FPR=0.017385630948725823),\n",
       " Row(FPR=0.017731040835124348),\n",
       " Row(FPR=0.0197267424009825),\n",
       " Row(FPR=0.021377034080442125),\n",
       " Row(FPR=0.02384607512025381),\n",
       " Row(FPR=0.026046464026199978),\n",
       " Row(FPR=0.028809743117388188),\n",
       " Row(FPR=0.029820386859072765),\n",
       " Row(FPR=0.032916282877904005),\n",
       " Row(FPR=0.03599938593797974),\n",
       " Row(FPR=0.03605055777300174),\n",
       " Row(FPR=0.03929996929689899),\n",
       " Row(FPR=0.042178385016886706),\n",
       " Row(FPR=0.04582437826220448),\n",
       " Row(FPR=0.04726998260157609),\n",
       " Row(FPR=0.05063453075427285),\n",
       " Row(FPR=0.05238716610377648),\n",
       " Row(FPR=0.05628901852420428),\n",
       " Row(FPR=0.05944887933681302),\n",
       " Row(FPR=0.06415668815883738),\n",
       " Row(FPR=0.06590932350834101),\n",
       " Row(FPR=0.07039965203152185),\n",
       " Row(FPR=0.07146146760822843),\n",
       " Row(FPR=0.07616927643025279),\n",
       " Row(FPR=0.07999437109814758),\n",
       " Row(FPR=0.08514993347661447),\n",
       " Row(FPR=0.08871916896939924),\n",
       " Row(FPR=0.09410500460546516),\n",
       " Row(FPR=0.09795568519087094),\n",
       " Row(FPR=0.10339269266195886),\n",
       " Row(FPR=0.10554190973288302),\n",
       " Row(FPR=0.11142667076041347),\n",
       " Row(FPR=0.11608330774741582),\n",
       " Row(FPR=0.12203203356872377),\n",
       " Row(FPR=0.12553730426773105),\n",
       " Row(FPR=0.13208729915054754),\n",
       " Row(FPR=0.13725565448776994),\n",
       " Row(FPR=0.14441971139085047),\n",
       " Row(FPR=0.14782263841981375),\n",
       " Row(FPR=0.15549841367311432),\n",
       " Row(FPR=0.157916282877904),\n",
       " Row(FPR=0.16534899191485006),\n",
       " Row(FPR=0.17142564732371302),\n",
       " Row(FPR=0.17961314092723366),\n",
       " Row(FPR=0.1827985876573534),\n",
       " Row(FPR=0.19119076860096204),\n",
       " Row(FPR=0.19312250537304268),\n",
       " Row(FPR=0.2016042370279398),\n",
       " Row(FPR=0.20742503326169276),\n",
       " Row(FPR=0.21693020161703),\n",
       " Row(FPR=0.2224823457169174),\n",
       " Row(FPR=0.23202589294852113),\n",
       " Row(FPR=0.2406099682734623),\n",
       " Row(FPR=0.25065244089653055),\n",
       " Row(FPR=0.2527121072561662),\n",
       " Row(FPR=0.2629080953843005),\n",
       " Row(FPR=0.2663494012895302),\n",
       " Row(FPR=0.27681404155153005),\n",
       " Row(FPR=0.28175212363115343),\n",
       " Row(FPR=0.2925110019445297),\n",
       " Row(FPR=0.2990098249923242),\n",
       " Row(FPR=0.30992221881076654),\n",
       " Row(FPR=0.3119307133353802),\n",
       " Row(FPR=0.32371302834919663),\n",
       " Row(FPR=0.3312224951386757),\n",
       " Row(FPR=0.34397707501791014),\n",
       " Row(FPR=0.35087247978712516),\n",
       " Row(FPR=0.36371661037764813),\n",
       " Row(FPR=0.3760234367004401),\n",
       " Row(FPR=0.38962235185753763),\n",
       " Row(FPR=0.39943455122300686),\n",
       " Row(FPR=0.41380104390543443),\n",
       " Row(FPR=0.4198904922730529),\n",
       " Row(FPR=0.43437212158428),\n",
       " Row(FPR=0.4486490635554191),\n",
       " Row(FPR=0.46355286050557776),\n",
       " Row(FPR=0.4683374270801351),\n",
       " Row(FPR=0.4836505987104698),\n",
       " Row(FPR=0.4908146556135503),\n",
       " Row(FPR=0.506486030089039),\n",
       " Row(FPR=0.5187288916180535),\n",
       " Row(FPR=0.5347456759799406),\n",
       " Row(FPR=0.5415387370791117),\n",
       " Row(FPR=0.5580800327499744),\n",
       " Row(FPR=0.572932657865111),\n",
       " Row(FPR=0.5904973902364139),\n",
       " Row(FPR=0.5994396684065091),\n",
       " Row(FPR=0.6168508852727459),\n",
       " Row(FPR=0.6288250946678948),\n",
       " Row(FPR=0.6468503735543957),\n",
       " Row(FPR=0.6549355234878723),\n",
       " Row(FPR=0.6738946883635247),\n",
       " Row(FPR=0.6827090369460649),\n",
       " Row(FPR=0.7012588271415413),\n",
       " Row(FPR=0.710520929280524),\n",
       " Row(FPR=0.729390543444888),\n",
       " Row(FPR=0.7401110428819977),\n",
       " Row(FPR=0.7598377852829803),\n",
       " Row(FPR=0.768971957834408),\n",
       " Row(FPR=0.78932555521441),\n",
       " Row(FPR=0.7981910756319721),\n",
       " Row(FPR=0.8180713335380206),\n",
       " Row(FPR=0.828446423088732),\n",
       " Row(FPR=0.84920939514891),\n",
       " Row(FPR=0.8660833077474158),\n",
       " Row(FPR=0.8874987207041245),\n",
       " Row(FPR=0.8975284003684372),\n",
       " Row(FPR=0.9193915668815884),\n",
       " Row(FPR=0.9358305188824071),\n",
       " Row(FPR=0.9580135093644458),\n",
       " Row(FPR=0.9684269777914236),\n",
       " Row(FPR=0.9911472725411933),\n",
       " Row(FPR=1.0),\n",
       " Row(FPR=1.0)]"
      ]
     },
     "execution_count": 19,
     "metadata": {},
     "output_type": "execute_result"
    }
   ],
   "source": [
    "roc.select(roc['FPR']).collect()"
   ]
  },
  {
   "cell_type": "code",
   "execution_count": 27,
   "metadata": {
    "scrolled": false
   },
   "outputs": [
    {
     "data": {
      "image/png": "[encoded data removed]",
      "text/plain": [
       "<Figure size 720x360 with 1 Axes>"
      ]
     },
     "metadata": {},
     "output_type": "display_data"
    }
   ],
   "source": [
    "plt.figure(figsize=(10,5))\n",
    "fpr = roc.select(roc['FPR']).collect()\n",
    "tpr = roc.select(roc['TPR']).collect()\n",
    "plt.plot(fpr,tpr, 'b')\n",
    "plt.plot(fpr,fpr, 'k--')\n",
    "plt.ylabel('False Positive Rate')\n",
    "plt.xlabel('True Positive Rate')\n",
    "plt.title('ROC Curve')\n",
    "plt.show()\n"
   ]
  },
  {
   "cell_type": "code",
   "execution_count": null,
   "metadata": {
    "collapsed": true
   },
   "outputs": [],
   "source": []
  }
 ],
 "metadata": {
  "kernelspec": {
   "display_name": "Python 3",
   "language": "python",
   "name": "python3"
  },
  "language_info": {
   "codemirror_mode": {
    "name": "ipython",
    "version": 3
   },
   "file_extension": ".py",
   "mimetype": "text/x-python",
   "name": "python",
   "nbconvert_exporter": "python",
   "pygments_lexer": "ipython3",
   "version": "3.6.1"
  }
 },
 "nbformat": 4,
 "nbformat_minor": 2
}
